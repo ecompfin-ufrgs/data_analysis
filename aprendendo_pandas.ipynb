{
 "cells": [
  {
   "cell_type": "markdown",
   "id": "c1ec6316-f4df-4f50-a7a3-8504fc3fcb7d",
   "metadata": {},
   "source": [
    "# Aprendendo a biblioteca Python PANDAS \n",
    "\n",
    "Referência: [Python for Data Analysis](https://wesmckinney.com/book/)"
   ]
  },
  {
   "cell_type": "code",
   "execution_count": 1,
   "id": "ee1820d2-d0a8-4b05-ab59-a7dd893fa2b1",
   "metadata": {},
   "outputs": [],
   "source": [
    "import numpy as np\n",
    "import pandas as pd"
   ]
  },
  {
   "cell_type": "markdown",
   "id": "1420160d-dc7d-4734-9f11-4ccd27308132",
   "metadata": {},
   "source": [
    "## Estrutura de dados Series"
   ]
  },
  {
   "cell_type": "markdown",
   "id": "bae3070a-7488-46d3-bfad-a4ed3dd316fd",
   "metadata": {},
   "source": [
    "A estrutura de dados Series é um objeto Python contendo uma sequência (array) de valores do mesmo tipo associada a uma outra sequência (array) de rótulos para cada elemento do array de valores.\n"
   ]
  },
  {
   "cell_type": "markdown",
   "id": "2822e6ef-ad10-46e9-a213-ac679eec09cd",
   "metadata": {},
   "source": [
    "## Instanciamento de um objeto Series e seus atributos fundamentais: index, array, dtype"
   ]
  },
  {
   "cell_type": "code",
   "execution_count": 2,
   "id": "30d36b7a-fd17-472a-8dd9-d53b122cf39a",
   "metadata": {},
   "outputs": [
    {
     "data": {
      "text/plain": [
       "pandas.core.series.Series"
      ]
     },
     "execution_count": 2,
     "metadata": {},
     "output_type": "execute_result"
    }
   ],
   "source": [
    "obj = pd.Series([4, 7, -5, 3])\n",
    "type(obj)"
   ]
  },
  {
   "cell_type": "markdown",
   "id": "04744ed2-dac3-4a15-8471-86cf4b4df76c",
   "metadata": {},
   "source": [
    "Para instanciar uma series especificando o array de rótulos, basta definir o atributo index como uma lista como mostrado abaixo:"
   ]
  },
  {
   "cell_type": "code",
   "execution_count": 3,
   "id": "1a727b93-9cb2-477c-a4dc-fbf9b88a8010",
   "metadata": {},
   "outputs": [
    {
     "data": {
      "text/plain": [
       "pandas.core.series.Series"
      ]
     },
     "execution_count": 3,
     "metadata": {},
     "output_type": "execute_result"
    }
   ],
   "source": [
    "obj2 = pd.Series([4,7, -5, 3], index = ['d', 'b', 'a', 'c'])\n",
    "type(obj2)"
   ]
  },
  {
   "cell_type": "markdown",
   "id": "320a8e22-9995-4c6c-97d9-a85c25a40a7e",
   "metadata": {},
   "source": [
    "Ou seja, como dito na definição, uma Series pode ser entendida como um par de arrays associados por um esquema chave-valor como uma hashmap. Isto sugere a possibilidade de se instanciar uma Series a partir de um dicionário como mostrado abaixo:\n"
   ]
  },
  {
   "cell_type": "code",
   "execution_count": 14,
   "id": "8e61fae4-65c0-4d66-9b91-27bf6e8871ea",
   "metadata": {},
   "outputs": [
    {
     "data": {
      "text/plain": [
       "pandas.core.series.Series"
      ]
     },
     "execution_count": 14,
     "metadata": {},
     "output_type": "execute_result"
    }
   ],
   "source": [
    "series_dict = {'d': 4, 'b': 7, 'a': -5, 'c': 3}\n",
    "\n",
    "obj_nel = pd.Series(series_dict)\n",
    "type(obj_nel)"
   ]
  },
  {
   "cell_type": "markdown",
   "id": "a4a4ed43-2d02-4169-a784-7d28075fcee3",
   "metadata": {},
   "source": [
    "## Representações de um objeto Series\n",
    "\n",
    "Um objeto Series apresenta duas principais representações:\n",
    "\n",
    "1. representação string, e\n",
    "2. representação array.\n"
   ]
  },
  {
   "cell_type": "markdown",
   "id": "054513d0-80d2-4e05-a74d-c043f79db6ee",
   "metadata": {},
   "source": [
    "Para mostrar a representação string de um objeto series, basta invocar o próprio objeto como mostrado abaixo ou, como previsto na especificação de linguagem Python, chamar a função print sobre o objeto que se deseja ver a representação string. "
   ]
  },
  {
   "cell_type": "code",
   "execution_count": 4,
   "id": "d208662a-e45d-4cc6-a1f0-ae5c2bacc2b8",
   "metadata": {},
   "outputs": [
    {
     "data": {
      "text/plain": [
       "0    4\n",
       "1    7\n",
       "2   -5\n",
       "3    3\n",
       "dtype: int64"
      ]
     },
     "execution_count": 4,
     "metadata": {},
     "output_type": "execute_result"
    }
   ],
   "source": [
    "obj"
   ]
  },
  {
   "cell_type": "code",
   "execution_count": 15,
   "id": "e2c17714-42c4-444d-88ef-1dc75a75ae85",
   "metadata": {},
   "outputs": [
    {
     "name": "stdout",
     "output_type": "stream",
     "text": [
      "d    4\n",
      "b    7\n",
      "a   -5\n",
      "c    3\n",
      "dtype: int64\n"
     ]
    }
   ],
   "source": [
    "print(obj2)"
   ]
  },
  {
   "cell_type": "markdown",
   "id": "e22091f2-5ed9-48ff-863f-4aec136e51c8",
   "metadata": {},
   "source": [
    "A representação string dos objetos Series apresenta o atributo dtype que é o tipo de dado comum aos elementos do array de valores do objeto Series.  Este atributo pode ser visualizado diretamente como mostrado abaixo."
   ]
  },
  {
   "cell_type": "code",
   "execution_count": 16,
   "id": "b973403d-a8f7-41a6-9394-873b433482c9",
   "metadata": {},
   "outputs": [
    {
     "data": {
      "text/plain": [
       "dtype('int64')"
      ]
     },
     "execution_count": 16,
     "metadata": {},
     "output_type": "execute_result"
    }
   ],
   "source": [
    "obj_nel.dtype"
   ]
  },
  {
   "cell_type": "markdown",
   "id": "bbf47b41-444c-4be2-ac0d-0889d627f8c8",
   "metadata": {},
   "source": [
    "No caso da Series obj, como não foi especificada sequência de rótulos, ela foi criada automaticamente pelo pandas como uma sequência numérica iniciando pelo índice zero.\n",
    "\n",
    "Para ver o array de rótulos de uma Series, basta invocar o atributo index como mostrado abaixo.\n"
   ]
  },
  {
   "cell_type": "code",
   "execution_count": 5,
   "id": "f607ff33-d79f-43d1-9f6d-5d876a2dbee7",
   "metadata": {},
   "outputs": [
    {
     "data": {
      "text/plain": [
       "RangeIndex(start=0, stop=4, step=1)"
      ]
     },
     "execution_count": 5,
     "metadata": {},
     "output_type": "execute_result"
    }
   ],
   "source": [
    "obj.index"
   ]
  },
  {
   "cell_type": "markdown",
   "id": "06f2c537-b9cf-4a70-8ba2-8b2666abca72",
   "metadata": {},
   "source": [
    "Já para mostrar a representação array da series, é preciso invocar o atributo array como mostrado abaixo:"
   ]
  },
  {
   "cell_type": "code",
   "execution_count": 6,
   "id": "9215a93d-81e9-4389-8280-b7f5409d4763",
   "metadata": {},
   "outputs": [
    {
     "data": {
      "text/plain": [
       "<NumpyExtensionArray>\n",
       "[4, 7, -5, 3]\n",
       "Length: 4, dtype: int64"
      ]
     },
     "execution_count": 6,
     "metadata": {},
     "output_type": "execute_result"
    }
   ],
   "source": [
    "obj.array"
   ]
  },
  {
   "cell_type": "markdown",
   "id": "ceaf4151-16b3-4b7c-9e0b-0a354d19826c",
   "metadata": {},
   "source": []
  },
  {
   "cell_type": "code",
   "execution_count": 8,
   "id": "054bac84-bf78-45eb-9f75-c3352e6a4a6e",
   "metadata": {},
   "outputs": [
    {
     "data": {
      "text/plain": [
       "Index(['d', 'b', 'a', 'c'], dtype='object')"
      ]
     },
     "execution_count": 8,
     "metadata": {},
     "output_type": "execute_result"
    }
   ],
   "source": [
    "obj2.index"
   ]
  },
  {
   "cell_type": "code",
   "execution_count": 11,
   "id": "543d6b63-3547-46ca-90e4-fc32507b7b9c",
   "metadata": {},
   "outputs": [
    {
     "data": {
      "text/plain": [
       "<NumpyExtensionArray>\n",
       "[4, 7, -5, 3]\n",
       "Length: 4, dtype: int64"
      ]
     },
     "execution_count": 11,
     "metadata": {},
     "output_type": "execute_result"
    }
   ],
   "source": [
    "obj2.array"
   ]
  },
  {
   "cell_type": "markdown",
   "id": "f3bead6e-4f4f-4ff3-8ab6-a360ed48f52b",
   "metadata": {},
   "source": [
    "## Operações e métodos fundamentais dos objetos Series"
   ]
  },
  {
   "cell_type": "markdown",
   "id": "34565aa7-e440-4814-9271-9f87c42865e1",
   "metadata": {},
   "source": [
    "### Selecionando elementos do array de Series\n",
    "\n",
    "Os elementos do array de Series podem ser selecionados usando uma notação que entende cada índice como um atributo do objeto Python Panda Series ou uma notação que entende os índices como chaves de um dicionário, porém elementos de objetos Series sem a definição de seu array de índices (rótulos) só podem selecionados invocando os índices como as chaves criadas automaticamente no dicionário. Vejamos dois exemplos:"
   ]
  },
  {
   "cell_type": "code",
   "execution_count": 18,
   "id": "1298f33c-5938-4ac6-8ed9-811cfc963657",
   "metadata": {},
   "outputs": [
    {
     "ename": "SyntaxError",
     "evalue": "invalid syntax (1015507738.py, line 3)",
     "output_type": "error",
     "traceback": [
      "\u001b[1;36m  Cell \u001b[1;32mIn[18], line 3\u001b[1;36m\u001b[0m\n\u001b[1;33m    obj.0\u001b[0m\n\u001b[1;37m       ^\u001b[0m\n\u001b[1;31mSyntaxError\u001b[0m\u001b[1;31m:\u001b[0m invalid syntax\n"
     ]
    }
   ],
   "source": [
    "# Seleção de elementos do array de valores com a notação de objetos\n",
    "\n",
    "obj.0"
   ]
  },
  {
   "cell_type": "code",
   "execution_count": 19,
   "id": "aec59706-0b57-4f64-ad8b-1e3bc9fd6cc2",
   "metadata": {},
   "outputs": [
    {
     "data": {
      "text/plain": [
       "4"
      ]
     },
     "execution_count": 19,
     "metadata": {},
     "output_type": "execute_result"
    }
   ],
   "source": [
    "# Selecionando com a notação do array de rótulos\n",
    "obj[0]"
   ]
  },
  {
   "cell_type": "code",
   "execution_count": 20,
   "id": "60cb3517-ed2a-4d0d-b08e-3070f7b38c8a",
   "metadata": {},
   "outputs": [
    {
     "data": {
      "text/plain": [
       "-5"
      ]
     },
     "execution_count": 20,
     "metadata": {},
     "output_type": "execute_result"
    }
   ],
   "source": [
    "obj2.a"
   ]
  },
  {
   "cell_type": "code",
   "execution_count": 21,
   "id": "9943c00a-aba2-4eb6-8e7c-7857893a34b1",
   "metadata": {},
   "outputs": [
    {
     "data": {
      "text/plain": [
       "-5"
      ]
     },
     "execution_count": 21,
     "metadata": {},
     "output_type": "execute_result"
    }
   ],
   "source": [
    "obj2['a']"
   ]
  },
  {
   "cell_type": "markdown",
   "id": "1cf5c20c-f46d-4fa0-a0fa-ddb52f20c4e4",
   "metadata": {},
   "source": [
    "A seleção pelo array de índices (rótulos) permite ainda o emprego de condicionais como mostrado abaixo. "
   ]
  },
  {
   "cell_type": "code",
   "execution_count": 23,
   "id": "4f2125f1-7703-4247-adbe-e9170457fc25",
   "metadata": {},
   "outputs": [
    {
     "data": {
      "text/plain": [
       "c    3\n",
       "a   -5\n",
       "d    4\n",
       "dtype: int64"
      ]
     },
     "execution_count": 23,
     "metadata": {},
     "output_type": "execute_result"
    }
   ],
   "source": [
    "obj2[['c', 'a', 'd']]"
   ]
  },
  {
   "cell_type": "code",
   "execution_count": 24,
   "id": "b741f9b2-c098-4683-98a5-0e3ce1e14c50",
   "metadata": {},
   "outputs": [
    {
     "data": {
      "text/plain": [
       "d    4\n",
       "b    7\n",
       "c    3\n",
       "dtype: int64"
      ]
     },
     "execution_count": 24,
     "metadata": {},
     "output_type": "execute_result"
    }
   ],
   "source": [
    "obj2[obj2 > 0]"
   ]
  },
  {
   "cell_type": "code",
   "execution_count": 25,
   "id": "a587d25f-bc18-492c-9335-6ff6f80cd754",
   "metadata": {},
   "outputs": [
    {
     "data": {
      "text/plain": [
       "d     8\n",
       "b    14\n",
       "a   -10\n",
       "c     6\n",
       "dtype: int64"
      ]
     },
     "execution_count": 25,
     "metadata": {},
     "output_type": "execute_result"
    }
   ],
   "source": [
    "obj2*2"
   ]
  },
  {
   "cell_type": "code",
   "execution_count": 26,
   "id": "3976e6e2-4c93-446e-b228-db7878ab1484",
   "metadata": {},
   "outputs": [
    {
     "data": {
      "text/plain": [
       "d      54.598150\n",
       "b    1096.633158\n",
       "a       0.006738\n",
       "c      20.085537\n",
       "dtype: float64"
      ]
     },
     "execution_count": 26,
     "metadata": {},
     "output_type": "execute_result"
    }
   ],
   "source": [
    "np.exp(obj2)"
   ]
  },
  {
   "cell_type": "markdown",
   "id": "47fda6d5-850b-47df-b88d-055cb4596bf0",
   "metadata": {},
   "source": [
    "Usando a notação de dicionário, pode-se ainda realizar os seguintes tipos de testes e seleção."
   ]
  },
  {
   "cell_type": "code",
   "execution_count": 27,
   "id": "58826e6f-9fe0-4251-aac9-f7cd3994a005",
   "metadata": {},
   "outputs": [
    {
     "data": {
      "text/plain": [
       "True"
      ]
     },
     "execution_count": 27,
     "metadata": {},
     "output_type": "execute_result"
    }
   ],
   "source": [
    "'b' in obj2"
   ]
  },
  {
   "cell_type": "code",
   "execution_count": 28,
   "id": "097fa170-ae85-4328-95bb-55f42dff214c",
   "metadata": {},
   "outputs": [
    {
     "data": {
      "text/plain": [
       "False"
      ]
     },
     "execution_count": 28,
     "metadata": {},
     "output_type": "execute_result"
    }
   ],
   "source": [
    "'e' in obj2"
   ]
  },
  {
   "cell_type": "code",
   "execution_count": 29,
   "id": "78ea2c0a-59e6-4f9a-a974-b26302d29bd4",
   "metadata": {},
   "outputs": [],
   "source": [
    "sdata = {\"Ohio\": 35000, \"Texas\": 71000, \"Oregon\": 16000, \"Utah\": 5000}"
   ]
  },
  {
   "cell_type": "code",
   "execution_count": 30,
   "id": "4ab901e5-9eff-4ac8-bba6-c2d93156e527",
   "metadata": {},
   "outputs": [],
   "source": [
    "obj3 = pd.Series(sdata)"
   ]
  },
  {
   "cell_type": "code",
   "execution_count": 31,
   "id": "d713c35c-d60f-4aec-85d9-fb9ba8c52941",
   "metadata": {},
   "outputs": [
    {
     "data": {
      "text/plain": [
       "Ohio      35000\n",
       "Texas     71000\n",
       "Oregon    16000\n",
       "Utah       5000\n",
       "dtype: int64"
      ]
     },
     "execution_count": 31,
     "metadata": {},
     "output_type": "execute_result"
    }
   ],
   "source": [
    "obj3"
   ]
  },
  {
   "cell_type": "markdown",
   "id": "52b83af9-69df-4bb1-90bb-cf313abbf2f2",
   "metadata": {},
   "source": [
    "## Conversão de Series para dictionary"
   ]
  },
  {
   "cell_type": "code",
   "execution_count": 32,
   "id": "a0727c41-6837-4139-90a4-f0ab1ebe97bc",
   "metadata": {},
   "outputs": [
    {
     "data": {
      "text/plain": [
       "{'Ohio': 35000, 'Texas': 71000, 'Oregon': 16000, 'Utah': 5000}"
      ]
     },
     "execution_count": 32,
     "metadata": {},
     "output_type": "execute_result"
    }
   ],
   "source": [
    "obj3.to_dict()"
   ]
  },
  {
   "cell_type": "markdown",
   "id": "84b42874-2fa8-46fc-b7a7-efa42ec646ee",
   "metadata": {},
   "source": [
    "## Alterando a ordem dos elementos do array de uma series: método to_dict()"
   ]
  },
  {
   "cell_type": "code",
   "execution_count": 33,
   "id": "5547cf07-2598-451d-ab8c-c5e759c0d2ce",
   "metadata": {},
   "outputs": [],
   "source": [
    "## Alterando a ordem dos elementos do array de uma Series\n",
    "\n",
    "states = ['California', 'Ohio', 'Oregon', 'Texas']\n",
    "obj4 = pd.Series(sdata, index = states)"
   ]
  },
  {
   "cell_type": "code",
   "execution_count": 34,
   "id": "67913101-ad63-4819-a4b5-a0a0394b0cc9",
   "metadata": {},
   "outputs": [
    {
     "data": {
      "text/plain": [
       "California        NaN\n",
       "Ohio          35000.0\n",
       "Oregon        16000.0\n",
       "Texas         71000.0\n",
       "dtype: float64"
      ]
     },
     "execution_count": 34,
     "metadata": {},
     "output_type": "execute_result"
    }
   ],
   "source": [
    "obj4"
   ]
  },
  {
   "cell_type": "markdown",
   "id": "02b7f63f-b950-4965-8893-e1f4bfa835fb",
   "metadata": {},
   "source": [
    "## Encontrando valores ausentes na Series\n",
    "\n",
    "Use as funções Pandas isna() e notna()."
   ]
  },
  {
   "cell_type": "code",
   "execution_count": 35,
   "id": "e735a6a1-ccf2-4232-a8ab-eb17a42ac5d4",
   "metadata": {},
   "outputs": [
    {
     "data": {
      "text/plain": [
       "California     True\n",
       "Ohio          False\n",
       "Oregon        False\n",
       "Texas         False\n",
       "dtype: bool"
      ]
     },
     "execution_count": 35,
     "metadata": {},
     "output_type": "execute_result"
    }
   ],
   "source": [
    "pd.isna(obj4)"
   ]
  },
  {
   "cell_type": "code",
   "execution_count": 36,
   "id": "8b69aa20-aad1-401e-8f8b-fe73779cf62e",
   "metadata": {},
   "outputs": [
    {
     "data": {
      "text/plain": [
       "California    False\n",
       "Ohio           True\n",
       "Oregon         True\n",
       "Texas          True\n",
       "dtype: bool"
      ]
     },
     "execution_count": 36,
     "metadata": {},
     "output_type": "execute_result"
    }
   ],
   "source": [
    "pd.notna(obj4)"
   ]
  },
  {
   "cell_type": "markdown",
   "id": "a9994644-6f84-4998-b918-dd71fba90c77",
   "metadata": {},
   "source": [
    "Os objetos Series também possuem métodos Series.isna() e Series.notna().  Veja seu uso."
   ]
  },
  {
   "cell_type": "code",
   "execution_count": 37,
   "id": "23686673-9270-4775-9985-3e854677c98e",
   "metadata": {},
   "outputs": [
    {
     "data": {
      "text/plain": [
       "California     True\n",
       "Ohio          False\n",
       "Oregon        False\n",
       "Texas         False\n",
       "dtype: bool"
      ]
     },
     "execution_count": 37,
     "metadata": {},
     "output_type": "execute_result"
    }
   ],
   "source": [
    "obj4.isna()"
   ]
  },
  {
   "cell_type": "code",
   "execution_count": 38,
   "id": "c337cb38-a32b-4eaa-a05f-4d6f9d0faa68",
   "metadata": {},
   "outputs": [
    {
     "data": {
      "text/plain": [
       "California    False\n",
       "Ohio           True\n",
       "Oregon         True\n",
       "Texas          True\n",
       "dtype: bool"
      ]
     },
     "execution_count": 38,
     "metadata": {},
     "output_type": "execute_result"
    }
   ],
   "source": [
    "obj4.notna()"
   ]
  },
  {
   "cell_type": "markdown",
   "id": "dec311e5-828d-410e-b8d8-8f3790da9b3c",
   "metadata": {},
   "source": [
    "## Operações vetorizadas"
   ]
  },
  {
   "cell_type": "code",
   "execution_count": 39,
   "id": "e38bccb0-f70c-4923-93df-b1e4cbdb653a",
   "metadata": {},
   "outputs": [
    {
     "data": {
      "text/plain": [
       "California         NaN\n",
       "Ohio           70000.0\n",
       "Oregon         32000.0\n",
       "Texas         142000.0\n",
       "Utah               NaN\n",
       "dtype: float64"
      ]
     },
     "execution_count": 39,
     "metadata": {},
     "output_type": "execute_result"
    }
   ],
   "source": [
    "obj3 + obj4"
   ]
  },
  {
   "cell_type": "markdown",
   "id": "5c3ce21b-28c1-4ee3-a1eb-68026851c3ac",
   "metadata": {},
   "source": [
    "Estas operações podem ser vistas como se fossem join em bancos de dados."
   ]
  },
  {
   "cell_type": "markdown",
   "id": "b36318c9-554b-4215-9782-4048b44ff4f1",
   "metadata": {},
   "source": [
    "## O atributo name\n",
    "\n",
    "Tanto os objetos Series quanto o atributo index (que é ele mesmo um objeto) possuem o atributo name.  Veja o exemplo."
   ]
  },
  {
   "cell_type": "code",
   "execution_count": 41,
   "id": "64bfe1c0-e498-4cdc-9360-5051dd60ef91",
   "metadata": {},
   "outputs": [],
   "source": [
    "obj4.name = 'population'"
   ]
  },
  {
   "cell_type": "code",
   "execution_count": 42,
   "id": "ebfb02fc-8d6d-4b98-9c34-5705b43cee7b",
   "metadata": {},
   "outputs": [],
   "source": [
    "obj4.index.name = 'state'"
   ]
  },
  {
   "cell_type": "code",
   "execution_count": 43,
   "id": "5f4a845b-60d0-45d2-8342-239dae2e9aae",
   "metadata": {},
   "outputs": [
    {
     "data": {
      "text/plain": [
       "state\n",
       "California        NaN\n",
       "Ohio          35000.0\n",
       "Oregon        16000.0\n",
       "Texas         71000.0\n",
       "Name: population, dtype: float64"
      ]
     },
     "execution_count": 43,
     "metadata": {},
     "output_type": "execute_result"
    }
   ],
   "source": [
    "obj4"
   ]
  },
  {
   "cell_type": "markdown",
   "id": "c0fb9111-60bb-4f3e-b1d5-a27b768fd3f4",
   "metadata": {},
   "source": [
    "## Alterando uma Series"
   ]
  },
  {
   "cell_type": "code",
   "execution_count": 44,
   "id": "863aaf6b-9c40-44a4-be9f-08d6f8520505",
   "metadata": {},
   "outputs": [
    {
     "data": {
      "text/plain": [
       "0    4\n",
       "1    7\n",
       "2   -5\n",
       "3    3\n",
       "dtype: int64"
      ]
     },
     "execution_count": 44,
     "metadata": {},
     "output_type": "execute_result"
    }
   ],
   "source": [
    "obj"
   ]
  },
  {
   "cell_type": "code",
   "execution_count": 45,
   "id": "f97c77ca-efa5-456c-b016-4b617974c9dc",
   "metadata": {},
   "outputs": [],
   "source": [
    "obj.index = ['Bob','Steve','Jeff','Ryan']"
   ]
  },
  {
   "cell_type": "code",
   "execution_count": 46,
   "id": "50185a0e-c253-45aa-a11f-ddb4d9743fca",
   "metadata": {},
   "outputs": [
    {
     "data": {
      "text/plain": [
       "Bob      4\n",
       "Steve    7\n",
       "Jeff    -5\n",
       "Ryan     3\n",
       "dtype: int64"
      ]
     },
     "execution_count": 46,
     "metadata": {},
     "output_type": "execute_result"
    }
   ],
   "source": [
    "obj"
   ]
  },
  {
   "cell_type": "code",
   "execution_count": null,
   "id": "12809a1b-55a1-491d-a0d3-9822f4f70e35",
   "metadata": {},
   "outputs": [],
   "source": []
  }
 ],
 "metadata": {
  "kernelspec": {
   "display_name": "Python 3 (ipykernel)",
   "language": "python",
   "name": "python3"
  },
  "language_info": {
   "codemirror_mode": {
    "name": "ipython",
    "version": 3
   },
   "file_extension": ".py",
   "mimetype": "text/x-python",
   "name": "python",
   "nbconvert_exporter": "python",
   "pygments_lexer": "ipython3",
   "version": "3.12.7"
  }
 },
 "nbformat": 4,
 "nbformat_minor": 5
}
