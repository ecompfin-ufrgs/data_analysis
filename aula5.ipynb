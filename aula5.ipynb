{
 "cells": [
  {
   "cell_type": "markdown",
   "id": "66c73af0-8117-4715-a39a-51d3da82627e",
   "metadata": {},
   "source": [
    "# Unidade V - Visualizando dados com Python MatPlotLib\n",
    "\n",
    "## Introdução\n",
    "\n",
    "O MatPlotLib é uma biblioteca Python composto por funções e objetos destinados à construção de gráficos.  A interface procedural é chamada de **pyplot** e, para uso de suas funções, deve-se importar todo o pacote *pyplot* ao passo que a interface orientada a objetos se pode ser acessada diretamente da biblioteca.\n",
    "\n",
    "O MatPlotLib - em qualquer de suas interfaces - desenha gráficos em um objeto denominado **Figure**.  Cada Figure pode ser composto por um ou mais objetos **Axes**, que é o conjunto de pontos de um sistema de eixos cartesianos n-dimensional ou, se desejado, um sistema de coordenadas polares.\n",
    "\n",
    "Por simplicidade, aqui apresentaremos apenas a interface procedural a qual é suficiente para a produção da maioria dos gráficos usados em análise de dados."
   ]
  },
  {
   "cell_type": "code",
   "execution_count": null,
   "id": "c97d2827-7ad3-4422-a12d-fa21293b47e4",
   "metadata": {},
   "outputs": [],
   "source": []
  },
  {
   "cell_type": "markdown",
   "id": "7dc8ce38-f2dc-49dd-8dc0-9f3c91b0221e",
   "metadata": {},
   "source": [
    "## 1. A interface pyplot"
   ]
  },
  {
   "cell_type": "code",
   "execution_count": 18,
   "id": "b6a02fae-3a9b-489e-b803-f55f77794c1a",
   "metadata": {},
   "outputs": [],
   "source": [
    "# Importação do pacote pyplot\n",
    "import numpy as np\n",
    "import matplotlib.pyplot as plt"
   ]
  },
  {
   "cell_type": "markdown",
   "id": "30eaeeed-f902-4254-95e8-bba9e3d1c664",
   "metadata": {},
   "source": [
    "### A função figure()\n",
    "\n",
    "Esta função cria um objeto Figure onde serão inseridos eixos e, posteriormente, plotados gráficos.\n",
    "\n",
    "Veja o exemplo:"
   ]
  },
  {
   "cell_type": "code",
   "execution_count": 31,
   "id": "fc5c0a4f-f4e3-48f7-86c3-5e7c549ba8d4",
   "metadata": {},
   "outputs": [
    {
     "data": {
      "text/plain": [
       "<Figure size 640x480 with 0 Axes>"
      ]
     },
     "metadata": {},
     "output_type": "display_data"
    }
   ],
   "source": [
    "# Criação de um objeto Figure\n",
    "\n",
    "figura = plt.figure()"
   ]
  },
  {
   "cell_type": "markdown",
   "id": "a041d8dc-3c28-4de9-9f24-301f17f18e8c",
   "metadata": {},
   "source": [
    "### A função subplot()\n",
    "\n",
    "Esta função insere objetos Axes ao objeto Figure que está sendo manipulado.  Cada eixo (Axes) é um sistema cartesiano e se comporta como um sub-gráfico (subplot). A assinatura da função é a seguinte:\n",
    "\n",
    "plt.subplot(nrows, ncols, index)\n",
    "\n",
    "- nrows - denota o número de linhas da figura\n",
    "- ncols - denota o número de colunas da figura\n",
    "- index - denota o índice a que se refere subplot é uma tupla de tamanho 2 ou 2 que denota o ínicio e o fim dos índices\n",
    "\n",
    "Veja o exemplo a seguir:"
   ]
  },
  {
   "cell_type": "code",
   "execution_count": 58,
   "id": "38e01abc-29a1-4914-879a-6b6b5ef48f08",
   "metadata": {},
   "outputs": [
    {
     "data": {
      "image/png": "[encoded data removed]",
      "text/plain": [
       "<Figure size 640x480 with 6 Axes>"
      ]
     },
     "metadata": {},
     "output_type": "display_data"
    }
   ],
   "source": [
    "# Exemplo de uso da função subplot()\n",
    "\n",
    "eixo1 = plt.subplot(2, 3, 1)\n",
    "eixo2 = plt.subplot(2, 3, 2)\n",
    "eixo3 = plt.subplot(2, 3, 3)\n",
    "eixo4 = plt.subplot(2, 3, 4)\n",
    "eixo5 = plt.subplot(2, 3, 5)\n",
    "eixo6 = plt.subplot(2, 3, 6)\n",
    "# eixo7 = plt.subplot(2, 3, 7)\n",
    "\n"
   ]
  },
  {
   "cell_type": "code",
   "execution_count": null,
   "id": "430fa623-1109-4251-bd5e-f02c4594da8a",
   "metadata": {},
   "outputs": [],
   "source": []
  },
  {
   "cell_type": "code",
   "execution_count": null,
   "id": "fa4e8807-0578-42b0-9b01-51482c06752f",
   "metadata": {},
   "outputs": [],
   "source": []
  },
  {
   "cell_type": "markdown",
   "id": "1969c001-7225-4e46-8055-b0f28205d7bf",
   "metadata": {},
   "source": [
    "### A função subplots()\n",
    "\n",
    "Esta função cria um objeto Figure e um objeto Axes dentro de Figure onde se poderá desenhar os gráficos desejados.\n",
    "\n"
   ]
  },
  {
   "cell_type": "code",
   "execution_count": null,
   "id": "1b339ae2-72e7-4f4a-9f9e-29b7660462b8",
   "metadata": {},
   "outputs": [],
   "source": []
  },
  {
   "cell_type": "code",
   "execution_count": null,
   "id": "fce20c4c-3d50-4f9a-820f-037abf438957",
   "metadata": {},
   "outputs": [],
   "source": []
  },
  {
   "cell_type": "markdown",
   "id": "148b64c1-889f-4e20-943d-cdd2517e5cc3",
   "metadata": {},
   "source": [
    "## 2. Histograma\n"
   ]
  },
  {
   "cell_type": "markdown",
   "id": "94d8cdea-13bc-4586-8d76-837021c7f7f1",
   "metadata": {},
   "source": [
    "## Séries de tempo\n"
   ]
  },
  {
   "cell_type": "code",
   "execution_count": null,
   "id": "6955d5a6-a281-4480-bffc-f9b71c307989",
   "metadata": {},
   "outputs": [],
   "source": []
  }
 ],
 "metadata": {
  "kernelspec": {
   "display_name": "Python [conda env:base] *",
   "language": "python",
   "name": "conda-base-py"
  },
  "language_info": {
   "codemirror_mode": {
    "name": "ipython",
    "version": 3
   },
   "file_extension": ".py",
   "mimetype": "text/x-python",
   "name": "python",
   "nbconvert_exporter": "python",
   "pygments_lexer": "ipython3",
   "version": "3.12.7"
  }
 },
 "nbformat": 4,
 "nbformat_minor": 5
}
