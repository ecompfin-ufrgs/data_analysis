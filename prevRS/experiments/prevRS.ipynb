{
 "cells": [
  {
   "cell_type": "markdown",
   "id": "93787e3c-376f-4106-a0b8-64035b086527",
   "metadata": {},
   "source": [
    "# ETL de análise de dados da receita da previdência do estado do RS em 2024"
   ]
  },
  {
   "cell_type": "code",
   "execution_count": 2,
   "id": "f5b5ebf5-3029-4316-8167-846b09d6dba9",
   "metadata": {},
   "outputs": [
    {
     "data": {
      "text/plain": [
       "'\\nAplicativo prevRS\\nDescrição:\\nEste aplicativo analisa os dados da receita previdenciária do RS em 2024.\\nAutor: Nelson Seixas dos Santos\\nData: 06/06/2025\\nVersão: 0.0.1\\n'"
      ]
     },
     "execution_count": 2,
     "metadata": {},
     "output_type": "execute_result"
    }
   ],
   "source": [
    "\"\"\"\n",
    "Aplicativo prevRS\n",
    "Descrição:\n",
    "Este aplicativo analisa os dados da receita previdenciária do RS em 2024.\n",
    "Autor: Nelson Seixas dos Santos\n",
    "Data: 06/06/2025\n",
    "Versão: 0.0.1\n",
    "\"\"\""
   ]
  },
  {
   "cell_type": "markdown",
   "id": "9e35cf74-4ee8-423c-b240-85a002ca2245",
   "metadata": {},
   "source": [
    "## Módulo main\n",
    "\n"
   ]
  },
  {
   "cell_type": "code",
   "execution_count": 103,
   "id": "b3633dcf-8972-4384-9d37-57f55fc5ae4e",
   "metadata": {},
   "outputs": [],
   "source": [
    "def main():\n",
    "    data = datareader.reader()\n",
    "    data_cleaned = cleaner.double_cleaner(cleaner.miss_cleaner(data))\n",
    "    media = explorer.calcula_media(data_cleaned)\n",
    "    desvpad = explorer.calcula_desvio_padrao(data_cleaned)\n",
    "    explorer.plotadora(data_cleaned)\n",
    "    "
   ]
  },
  {
   "cell_type": "code",
   "execution_count": null,
   "id": "b21acdaa-504f-49a0-9822-0a0807c851b8",
   "metadata": {},
   "outputs": [],
   "source": []
  },
  {
   "cell_type": "markdown",
   "id": "1cd0ccf1-6f77-46fd-9824-1476d66ed3bd",
   "metadata": {},
   "source": [
    "## Módulo datareader\n",
    "\n",
    "Módulo datareader\n",
    "\n",
    "Descrição: Este módulo oferece funções para leitura de dados de receitas da previdência 2024 no RS.\n",
    "\n",
    "Autor: Nelson Seixas dos Santos\n",
    "\n",
    "Data: 06/06/2025\n",
    "\n",
    "Versão: 0.0.1\n",
    "\n"
   ]
  },
  {
   "cell_type": "code",
   "execution_count": 12,
   "id": "48cd16fa-a6c0-442f-8f83-8e7cda26c61b",
   "metadata": {},
   "outputs": [
    {
     "data": {
      "text/plain": [
       "'\\nMódulo datareader\\nDescrição: Este módulo oferece funções para leitura de dados de receitas da previdência 2024 no RS\\nAutor: Nelson Seixas dos Santos\\nData: 06/06/2025\\nVersão: 0.0.1\\n'"
      ]
     },
     "execution_count": 12,
     "metadata": {},
     "output_type": "execute_result"
    }
   ],
   "source": [
    "\"\"\"\n",
    "Módulo datareader\n",
    "Descrição: Este módulo oferece funções para leitura de dados de receitas da previdência 2024 no RS\n",
    "Autor: Nelson Seixas dos Santos\n",
    "Data: 06/06/2025\n",
    "Versão: 0.0.1\n",
    "\"\"\"\n"
   ]
  },
  {
   "cell_type": "code",
   "execution_count": 117,
   "id": "35797c98-272f-46b2-8bb3-b8eac7069c2d",
   "metadata": {},
   "outputs": [],
   "source": [
    "import numpy as np\n",
    "import pandas as pd\n",
    "def reader(url=\"https://dados.tce.rs.gov.br/dados/municipal/prev-receitas/2024.csv\"):\n",
    "    dados = pd.read_csv(url)\n",
    "    return dados"
   ]
  },
  {
   "cell_type": "code",
   "execution_count": 125,
   "id": "0cf72bbf-710e-43b5-a9a2-162f90f09191",
   "metadata": {},
   "outputs": [],
   "source": [
    "dados = reader(\"https://dados.tce.rs.gov.br/dados/municipal/prev-receitas/2023.csv\")"
   ]
  },
  {
   "cell_type": "code",
   "execution_count": 127,
   "id": "0031d1c2-5e3e-4798-98f0-e652f265689b",
   "metadata": {},
   "outputs": [
    {
     "data": {
      "text/html": [
       "<div>\n",
       "<style scoped>\n",
       "    .dataframe tbody tr th:only-of-type {\n",
       "        vertical-align: middle;\n",
       "    }\n",
       "\n",
       "    .dataframe tbody tr th {\n",
       "        vertical-align: top;\n",
       "    }\n",
       "\n",
       "    .dataframe thead th {\n",
       "        text-align: right;\n",
       "    }\n",
       "</style>\n",
       "<table border=\"1\" class=\"dataframe\">\n",
       "  <thead>\n",
       "    <tr style=\"text-align: right;\">\n",
       "      <th></th>\n",
       "      <th>ANO</th>\n",
       "      <th>CD_ORGAO</th>\n",
       "      <th>NOME</th>\n",
       "      <th>CD_RECEBIMENTO</th>\n",
       "      <th>CD_CONTA_SG</th>\n",
       "      <th>DS_CONTA_SG</th>\n",
       "      <th>VL_ARRECADADO</th>\n",
       "    </tr>\n",
       "  </thead>\n",
       "  <tbody>\n",
       "    <tr>\n",
       "      <th>0</th>\n",
       "      <td>2023</td>\n",
       "      <td>40100</td>\n",
       "      <td>PM DE AGUDO</td>\n",
       "      <td>319335</td>\n",
       "      <td>11125001010000000000</td>\n",
       "      <td>IPTU - Principal - PROPRIO</td>\n",
       "      <td>1297868.42</td>\n",
       "    </tr>\n",
       "    <tr>\n",
       "      <th>1</th>\n",
       "      <td>2023</td>\n",
       "      <td>40100</td>\n",
       "      <td>PM DE AGUDO</td>\n",
       "      <td>319335</td>\n",
       "      <td>11125001020000000000</td>\n",
       "      <td>IPTU - Principal - MDE</td>\n",
       "      <td>637134.76</td>\n",
       "    </tr>\n",
       "    <tr>\n",
       "      <th>2</th>\n",
       "      <td>2023</td>\n",
       "      <td>40100</td>\n",
       "      <td>PM DE AGUDO</td>\n",
       "      <td>319335</td>\n",
       "      <td>11125001030000000000</td>\n",
       "      <td>IPTU - Principal - ASPS</td>\n",
       "      <td>424755.73</td>\n",
       "    </tr>\n",
       "    <tr>\n",
       "      <th>3</th>\n",
       "      <td>2023</td>\n",
       "      <td>40100</td>\n",
       "      <td>PM DE AGUDO</td>\n",
       "      <td>319335</td>\n",
       "      <td>11125003010000000000</td>\n",
       "      <td>IPTU - Divida Ativa - PROPRIO</td>\n",
       "      <td>136761.25</td>\n",
       "    </tr>\n",
       "    <tr>\n",
       "      <th>4</th>\n",
       "      <td>2023</td>\n",
       "      <td>40100</td>\n",
       "      <td>PM DE AGUDO</td>\n",
       "      <td>319335</td>\n",
       "      <td>11125003020000000000</td>\n",
       "      <td>IPTU - Divida Ativa - MDE</td>\n",
       "      <td>67135.11</td>\n",
       "    </tr>\n",
       "  </tbody>\n",
       "</table>\n",
       "</div>"
      ],
      "text/plain": [
       "    ANO  CD_ORGAO         NOME  CD_RECEBIMENTO           CD_CONTA_SG  \\\n",
       "0  2023     40100  PM DE AGUDO          319335  11125001010000000000   \n",
       "1  2023     40100  PM DE AGUDO          319335  11125001020000000000   \n",
       "2  2023     40100  PM DE AGUDO          319335  11125001030000000000   \n",
       "3  2023     40100  PM DE AGUDO          319335  11125003010000000000   \n",
       "4  2023     40100  PM DE AGUDO          319335  11125003020000000000   \n",
       "\n",
       "                     DS_CONTA_SG  VL_ARRECADADO  \n",
       "0     IPTU - Principal - PROPRIO     1297868.42  \n",
       "1         IPTU - Principal - MDE      637134.76  \n",
       "2        IPTU - Principal - ASPS      424755.73  \n",
       "3  IPTU - Divida Ativa - PROPRIO      136761.25  \n",
       "4      IPTU - Divida Ativa - MDE       67135.11  "
      ]
     },
     "execution_count": 127,
     "metadata": {},
     "output_type": "execute_result"
    }
   ],
   "source": [
    "dados.head()"
   ]
  },
  {
   "cell_type": "markdown",
   "id": "53565557-2cf4-4687-bdb4-5cf9be492c13",
   "metadata": {},
   "source": [
    "## Módulo loader\n",
    "\n",
    "Módulo loader\n",
    "\n",
    "Descrição: Este módulo oferece funções para carregamento do banco de dados e impressão na tela dos resultados da análise das receitas da previdência 2024 no RS.\n",
    "\n",
    "Autor: Nelson Seixas dos Santos\n",
    "\n",
    "Data: 06/06/2025\n",
    "\n",
    "Versão: 0.0.1\n",
    "\n"
   ]
  },
  {
   "cell_type": "code",
   "execution_count": 18,
   "id": "2076aa36-b6ad-4f75-bc56-5d996120b172",
   "metadata": {},
   "outputs": [
    {
     "data": {
      "text/plain": [
       "'\\nMódulo loader\\nDescrição: Este módulo oferece funções para carregamento do banco de dados e impressão na tela dos resultados da análise das receitas da previdência 2024 no RS.\\nAutor: Nelson Seixas dos Santos\\nData: 06/06/2025\\nVersão: 0.0.1\\n'"
      ]
     },
     "execution_count": 18,
     "metadata": {},
     "output_type": "execute_result"
    }
   ],
   "source": [
    "\"\"\"\n",
    "Módulo loader\n",
    "Descrição: Este módulo oferece funções para carregamento do banco de dados e impressão na tela dos resultados da análise das receitas da previdência 2024 no RS.\n",
    "Autor: Nelson Seixas dos Santos\n",
    "Data: 06/06/2025\n",
    "Versão: 0.0.1\n",
    "\"\"\""
   ]
  },
  {
   "cell_type": "code",
   "execution_count": 21,
   "id": "4ee5cd4e-a27a-4a71-b878-6701cb3b79e1",
   "metadata": {},
   "outputs": [],
   "source": [
    "# Funções para banco de dados\n",
    "\n",
    "# Importação do módulo do SGBD sqlite\n",
    "import sqlite3 as sql\n"
   ]
  },
  {
   "cell_type": "code",
   "execution_count": 23,
   "id": "34b503cd-e3e2-48e4-87ea-2e4aa746ca0a",
   "metadata": {},
   "outputs": [],
   "source": [
    "def create():\n",
    "    \"\"\"Função para gravar no BD\"\"\"\n",
    "    pass\n"
   ]
  },
  {
   "cell_type": "code",
   "execution_count": 25,
   "id": "5fc9f949-ffb6-4b48-8f3f-1d4ea1db422d",
   "metadata": {},
   "outputs": [],
   "source": [
    "def retrieve():\n",
    "    \"\"\"Função para consultar o BD\"\"\"\n",
    "    pass"
   ]
  },
  {
   "cell_type": "code",
   "execution_count": 31,
   "id": "2a1a0772-e0da-4c44-b63d-303fa1f93930",
   "metadata": {},
   "outputs": [],
   "source": [
    "def update():\n",
    "    \"\"\"Função para atualizar o BD\"\"\"\n",
    "    pass"
   ]
  },
  {
   "cell_type": "code",
   "execution_count": 33,
   "id": "9e660211-6a6f-48c9-a059-797248e490f9",
   "metadata": {},
   "outputs": [],
   "source": [
    "def delete():\n",
    "    \"\"\"Função para apagar dados no BD\"\"\"\n",
    "    pass"
   ]
  },
  {
   "cell_type": "markdown",
   "id": "25fdf38a-ef61-40ca-ad5c-3d973d6d974f",
   "metadata": {},
   "source": [
    "## Pacote transformer\n",
    "\n",
    "\n",
    "Descrição: Este pacote oferece dois módulos de funções.  O módulo cleaner oferece funções para limpeza de dados e o módulo explorer oferece funções para análise exploratória de dados das receitas da previdência 2024 no RS.\n",
    "\n",
    "Autor: Nelson Seixas dos Santos\n",
    "\n",
    "Data: 06/06/2025\n",
    "\n",
    "Versão: 0.0.1"
   ]
  },
  {
   "cell_type": "code",
   "execution_count": 73,
   "id": "49bd64c6-c75f-4b14-85a4-e28b1aab8641",
   "metadata": {},
   "outputs": [],
   "source": [
    "# Importação de pacotes\n",
    "\n",
    "import numpy as np\n",
    "import matplotlib.pyplot as plt\n",
    "import pandas as pd"
   ]
  },
  {
   "cell_type": "code",
   "execution_count": 61,
   "id": "d3f11ab8-daec-4a31-a827-579c91b00b27",
   "metadata": {},
   "outputs": [],
   "source": [
    "\n",
    "# cleaner.py\n",
    "def miss_cleaner():\n",
    "    \"\"\"Limpa dados faltantes\"\"\"\n",
    "    pass"
   ]
  },
  {
   "cell_type": "code",
   "execution_count": 59,
   "id": "b61b40c7-c392-4eb7-aa72-1d117b8dfc5b",
   "metadata": {},
   "outputs": [],
   "source": [
    "# cleaner.py\n",
    "def double_cleaner():\n",
    "    \"\"\"Limpa dados repetidos\"\"\"\n",
    "    pass"
   ]
  },
  {
   "cell_type": "code",
   "execution_count": 65,
   "id": "3a79a896-4c85-4f29-bc77-c4e7f4a8ef65",
   "metadata": {},
   "outputs": [],
   "source": [
    "# explorer.py\n",
    "\n",
    "def calcula_media():\n",
    "    pass\n",
    "\n"
   ]
  },
  {
   "cell_type": "code",
   "execution_count": 69,
   "id": "0502aa1c-2c2e-4ddc-8a7f-36a3d80db463",
   "metadata": {},
   "outputs": [],
   "source": [
    "# explorer.py\n",
    "\n",
    "\n",
    "def calcula_desvio_padrao():\n",
    "    pass\n",
    "\n"
   ]
  },
  {
   "cell_type": "code",
   "execution_count": 71,
   "id": "fdcd6e88-fd75-4091-82c5-fabe9ae8a175",
   "metadata": {},
   "outputs": [],
   "source": [
    "\n",
    "\n",
    "def plotadora():\n",
    "    pass"
   ]
  },
  {
   "cell_type": "code",
   "execution_count": null,
   "id": "cc15a11a-2484-416f-b321-2f724c1d6f88",
   "metadata": {},
   "outputs": [],
   "source": []
  }
 ],
 "metadata": {
  "kernelspec": {
   "display_name": "Python [conda env:base] *",
   "language": "python",
   "name": "conda-base-py"
  },
  "language_info": {
   "codemirror_mode": {
    "name": "ipython",
    "version": 3
   },
   "file_extension": ".py",
   "mimetype": "text/x-python",
   "name": "python",
   "nbconvert_exporter": "python",
   "pygments_lexer": "ipython3",
   "version": "3.12.7"
  }
 },
 "nbformat": 4,
 "nbformat_minor": 5
}
